{
 "cells": [
  {
   "cell_type": "markdown",
   "id": "f8f63eb2-6e4c-47f2-996a-9ebfbe752166",
   "metadata": {},
   "source": [
    "### 2. **Gráficos para Visualización de Datos**\n",
    "**Resumen:** La visualización de datos es clave para identificar patrones y relaciones entre diferentes variables. Los gráficos apropiados pueden proporcionar información valiosa sobre el comportamiento de los precios y volúmenes de ventas."
   ]
  },
  {
   "cell_type": "markdown",
   "id": "b5e54dba",
   "metadata": {},
   "source": [
    "1. **Gráfico de Violín de Volumen de Ventas por Región:**\n",
    "   - **Uso de Datos:** Usa las columnas `Total Volume` y `region`.\n",
    "   - **Esperado:** Visualiza la distribución de ventas en diferentes regiones.\n",
    "     - Utiliza la función `violinplot` de `seaborn` para crear gráficos de violín.\n",
    "     - Configura los ejes para mostrar la relación entre `Total Volume` y `region`.\n",
    "     - Añade etiquetas y títulos usando `plt.title()` y `plt.xlabel()` para facilitar la interpretación."
   ]
  },
  {
   "cell_type": "markdown",
   "id": "9206c770",
   "metadata": {},
   "source": [
    "2. **Boxplot Comparativo de Precios entre Años:**\n",
    "   - **Uso de Datos:** Usa las columnas `AveragePrice` y `year`.\n",
    "   - **Esperado:** Genera boxplots para comparar la distribución de precios.\n",
    "     - Utiliza `boxplot` de `seaborn` para crear boxplots que comparen `AveragePrice` entre diferentes años.\n",
    "     - Asegúrate de que cada boxplot represente un año diferente.\n",
    "     - Incluye etiquetas y títulos descriptivos usando `plt.title()`."
   ]
  },
  {
   "cell_type": "markdown",
   "id": "74d8cbf0",
   "metadata": {},
   "source": [
    "3. **Histograma de Volumen Total de Ventas:**\n",
    "   - **Uso de Datos:** Usa la columna `Total Volume`.\n",
    "   - **Esperado:** Crea un histograma para mostrar la distribución del volumen total de ventas.\n",
    "     - Utiliza `hist()` de `matplotlib` para crear el histograma.\n",
    "     - Ajusta el número de bins para una visualización clara usando el parámetro `bins`.\n",
    "     - Añade etiquetas y un título que describa lo que se muestra."
   ]
  },
  {
   "cell_type": "markdown",
   "id": "a9fe5780",
   "metadata": {},
   "source": [
    "4. **Gráfico de Barras de Ventas por Tipo de Bolsa:**\n",
    "   - **Uso de Datos:** Utiliza las columnas `Total Bags`, `Small Bags`, `Large Bags` y `XLarge Bags`.\n",
    "   - **Esperado:** Compara las ventas de diferentes tipos de bolsas.\n",
    "     - Suma los volúmenes de ventas por tipo de bolsa utilizando `sum()`.\n",
    "     - Crea un gráfico de barras con `plt.bar()` para mostrar las diferencias en ventas.\n",
    "     - Asegúrate de incluir etiquetas para cada tipo de bolsa."
   ]
  },
  {
   "cell_type": "markdown",
   "id": "f89824f8",
   "metadata": {},
   "source": [
    "5. **Gráfico de Líneas de Precios Promedios por Año:**\n",
    "   - **Uso de Datos:** Utiliza las columnas `AveragePrice` y `year`.\n",
    "   - **Esperado:** Visualiza la tendencia de precios promedio a lo largo de los años.\n",
    "     - Agrupa los datos por `year` y calcula el promedio de `AveragePrice`.\n",
    "     - Usa `plt.plot()` para crear un gráfico de líneas que muestre la evolución de precios.\n",
    "     - Añade un título y etiquetas descriptivas a los ejes usando `plt.title()` y `plt.xlabel()`."
   ]
  },
  {
   "cell_type": "markdown",
   "id": "4cb79c25",
   "metadata": {},
   "source": []
  }
 ],
 "metadata": {
  "kernelspec": {
   "display_name": "Python 3 (ipykernel)",
   "language": "python",
   "name": "python3"
  },
  "language_info": {
   "codemirror_mode": {
    "name": "ipython",
    "version": 3
   },
   "file_extension": ".py",
   "mimetype": "text/x-python",
   "name": "python",
   "nbconvert_exporter": "python",
   "pygments_lexer": "ipython3",
   "version": "3.10.12"
  }
 },
 "nbformat": 4,
 "nbformat_minor": 5
}
