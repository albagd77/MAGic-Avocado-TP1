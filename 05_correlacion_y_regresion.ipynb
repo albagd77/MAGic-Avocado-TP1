{
 "cells": [
  {
   "cell_type": "markdown",
   "id": "f8f63eb2-6e4c-47f2-996a-9ebfbe752166",
   "metadata": {},
   "source": [
    "### 5. **Análisis de Correlación y Regresión**\n",
    "**Resumen:** Se centra en la identificación de relaciones significativas entre las variables numéricas y el desarrollo de modelos de regresión para hacer predicciones basadas en esas relaciones."
   ]
  },
  {
   "cell_type": "markdown",
   "id": "ba4d87e4",
   "metadata": {},
   "source": [
    "1. **Matriz de Correlación:** \n",
    "   - **Uso de Datos:** Utiliza las columnas numéricas del DataFrame (p. ej., `AveragePrice`, `Total Volume`, `4046`, `4225`, `4770`, `Total Bags`).\n",
    "   - **Esperado:** \n",
    "     - Importa las librerías necesarias: `import seaborn as sns` y `import matplotlib.pyplot as plt`.\n",
    "     - Calcula la matriz de correlación usando el método `.corr()` del DataFrame.\n",
    "     - Visualiza la matriz utilizando `sns.heatmap()`. \n",
    "     - Anota las correlaciones más significativas y discute su posible impacto en el análisis."
   ]
  },
  {
   "cell_type": "markdown",
   "id": "2c3ae5b0",
   "metadata": {},
   "source": [
    "2. **Análisis de Dispersión entre Variables Clave:** \n",
    "   - **Uso de Datos:** Selecciona variables numéricas de interés como `AveragePrice` y `Total Volume`.\n",
    "   - **Esperado:** \n",
    "     - Importa las librerías necesarias: `import seaborn as sns` y `import matplotlib.pyplot as plt`.\n",
    "     - Crea un gráfico de dispersión con `sns.scatterplot()` para visualizar la relación entre `AveragePrice` y `Total Volume`.\n",
    "     - Añade una línea de regresión utilizando `sns.regplot()` para ilustrar las tendencias.\n",
    "     - Compara el ajuste de una regresión lineal frente a una polinómica."
   ]
  },
  {
   "cell_type": "markdown",
   "id": "8cb0182f",
   "metadata": {},
   "source": [
    "3. **Predicciones Mensuales Usando Datos Trimestrales:**\n",
    "   - **Uso de Datos:** Agrupa datos por trimestres y segmenta en meses utilizando `Date`, `AveragePrice`, y `Total Volume`.\n",
    "   - **Esperado:** \n",
    "     - Convierte la columna `Date` a tipo datetime si es necesario.\n",
    "     - Agrupa los datos por trimestre y calcula el promedio de `AveragePrice` y `Total Volume`.\n",
    "     - Utiliza los datos de los primeros 2 meses de un trimestre para predecir el precio del tercer mes.\n",
    "     - Compara los resultados de las predicciones con los precios reales.\n",
    "     - Evalúa la precisión de tus predicciones utilizando métricas como R² y RMSE."
   ]
  },
  {
   "cell_type": "markdown",
   "id": "dadd48b1",
   "metadata": {},
   "source": [
    "4. **Predicciones Trimestrales:**\n",
    "   - **Uso de Datos:** Agrupa los datos en trimestres usando solo variables numéricas.\n",
    "   - **Esperado:** \n",
    "     - Agrupa los datos por trimestres usando `pd.Grouper()` con `freq='Q'` para obtener promedios.\n",
    "     - Usa los datos de 1 o 2 trimestres anteriores para predecir el siguiente trimestre ajustando modelos de regresión lineal y polinómica.\n",
    "     - Compara los resultados de las predicciones con los precios reales.\n",
    "     - Evalúa la precisión de tus predicciones utilizando métricas como R² y RMSE."
   ]
  },
  {
   "cell_type": "markdown",
   "id": "11477c3b",
   "metadata": {},
   "source": [
    "5. **Predicciones Anuales:**\n",
    "   - **Uso de Datos:** Agrupa los datos en años, utilizando únicamente columnas numéricas.\n",
    "   - **Esperado:** \n",
    "     - Agrupa los datos por año utilizando `pd.Grouper()` con `freq='Y'`.\n",
    "     - Usa los datos de 1 o 2 años anteriores para predecir el siguiente año ajustando modelos de regresión lineal y polinómica.\n",
    "     - Evalúa la precisión de tus predicciones utilizando métricas como R² y RMSE."
   ]
  },
  {
   "cell_type": "markdown",
   "id": "86b6b98d",
   "metadata": {},
   "source": [
    "6. **Desarrollo de Modelos de Regresión Múltiple:** \n",
    "   - **Uso de Datos:** Selecciona varias variables numéricas como `Total Volume`, `4046`, `4225`, `4770`, y `Total Bags` para predecir `AveragePrice`.\n",
    "   - **Esperado:** \n",
    "     - Define las variables independientes (X) y dependientes (y).\n",
    "     - Ajusta modelos de regresión múltiple.\n",
    "     - Compara su rendimiento utilizando métricas como R² y RMSE y discute las implicaciones de los resultados."
   ]
  },
  {
   "cell_type": "markdown",
   "id": "671e39f6",
   "metadata": {},
   "source": [
    "7. **Análisis de Coeficientes de Regresión Múltiple:**\n",
    "   - **Uso de Datos:** Examina los coeficientes de los modelos de regresión múltiple ajustados.\n",
    "   - **Esperado:** \n",
    "     - Extrae los coeficientes del modelo ajustado.\n",
    "     - Interpreta los coeficientes para entender el impacto de cada variable numérica en `AveragePrice`.\n",
    "     - Comenta sobre las variables más significativas y su relevancia."
   ]
  },
  {
   "cell_type": "markdown",
   "id": "05d25a0c",
   "metadata": {},
   "source": [
    "8. **Modelos de Regresión para Diferenciar Volúmenes de Ventas:**\n",
    "   - **Uso de Datos:** Usa `AveragePrice`, `Total Volume`, `4046`, `4225`, y `4770`.\n",
    "   - **Esperado:** \n",
    "     - Ajusta modelos de regresión para analizar cómo los diferentes volúmenes de ventas afectan `AveragePrice`.\n",
    "     - Compara los resultados de regresión lineal y polinómica.\n",
    "     - Presenta las conclusiones de tus análisis."
   ]
  },
  {
   "cell_type": "markdown",
   "id": "e45a5f65",
   "metadata": {},
   "source": [
    "9. **Análisis de la Influencia de las Ventas Totales en el Precio Promedio:**\n",
    "   - **Uso de Datos:** Usa `Total Volume`, `AveragePrice`, y `Total Bags`.\n",
    "   - **Esperado:** \n",
    "     - Ajusta un modelo de regresión lineal y polinómica para ver cómo varía `AveragePrice` en función del volumen total de ventas.\n",
    "     - Evalúa la significancia de los coeficientes y discute su relevancia."
   ]
  },
  {
   "cell_type": "markdown",
   "id": "43168533",
   "metadata": {},
   "source": [
    "10. **Regresión para Predecir el Precio Promedio Según el Volumen de Aguacates por Tipo:**\n",
    "    - **Uso de Datos:** Usa `AveragePrice`, `4046`, `4225`, `4770`, y `Total Volume`.\n",
    "    - **Esperado:** \n",
    "      - Ajusta modelos de regresión lineal y polinómica.\n",
    "      - Evalúa la efectividad de ambos modelos utilizando métricas como R² y RMSE.\n",
    "      - Discute cuál modelo ofrece mejores predicciones y por qué, basándote en los resultados obtenidos. "
   ]
  }
 ],
 "metadata": {
  "kernelspec": {
   "display_name": "Python 3 (ipykernel)",
   "language": "python",
   "name": "python3"
  },
  "language_info": {
   "codemirror_mode": {
    "name": "ipython",
    "version": 3
   },
   "file_extension": ".py",
   "mimetype": "text/x-python",
   "name": "python",
   "nbconvert_exporter": "python",
   "pygments_lexer": "ipython3",
   "version": "3.10.12"
  }
 },
 "nbformat": 4,
 "nbformat_minor": 5
}
